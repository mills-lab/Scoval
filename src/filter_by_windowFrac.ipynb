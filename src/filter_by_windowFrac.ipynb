{
 "cells": [
  {
   "cell_type": "code",
   "execution_count": null,
   "metadata": {},
   "outputs": [],
   "source": [
    "import pandas as pd\n",
    "import matplotlib.pyplot as plt\n",
    "import os"
   ]
  },
  {
   "cell_type": "code",
   "execution_count": null,
   "metadata": {},
   "outputs": [],
   "source": [
    "def get_start_index(df, cnv_start):\n",
    "    if cnv_start <= df.iloc[0].start:\n",
    "        return 0\n",
    "    else:\n",
    "        start_index = df.index[df[\"start\"] <= cnv_start].tolist()[-1]\n",
    "        if df.iloc[start_index].end <= cnv_start:\n",
    "            start_index += 1\n",
    "        return start_index\n",
    "\n",
    "\n",
    "def get_end_index(df, cnv_end):\n",
    "    if cnv_end >= df.iloc[-1].end:\n",
    "        return df.shape[0]-1\n",
    "    else:\n",
    "        end_index = df.index[df[\"end\"] >= cnv_end].tolist()[0]\n",
    "        if df.iloc[end_index].start >= cnv_end:\n",
    "            end_index -= 1\n",
    "        return end_index"
   ]
  },
  {
   "cell_type": "code",
   "execution_count": null,
   "metadata": {},
   "outputs": [],
   "source": [
    "ratio_dict = {}\n",
    "ratio_pkl_dir = \"ABS_RATIO_DIR_FROM_STEP_5\"\n",
    "chr_list = list(map(str, range(1,23)))\n",
    "for chrom in chr_list:\n",
    "    pkl_path = os.path.join(ratio_pkl_dir, chrom+\"_abslog2ratio.filtered.100.100.windows.pkl\")\n",
    "    df = pd.read_pickle(pkl_path)\n",
    "    df.reset_index(drop=True)\n",
    "    ratio_dict[\"chr\"+chrom] = df.copy()"
   ]
  },
  {
   "cell_type": "code",
   "execution_count": null,
   "metadata": {},
   "outputs": [],
   "source": [
    "raw_cnv = pd.read_pickle(\"OUTPUT_FROM_STEP_8\")"
   ]
  },
  {
   "cell_type": "code",
   "execution_count": null,
   "metadata": {},
   "outputs": [],
   "source": [
    "cnv_df = raw_cnv.copy()\n",
    "cnv_df[\"N_window\"] = 0\n",
    "cnv_df[\"N_nonNA_window\"] = 0"
   ]
  },
  {
   "cell_type": "code",
   "execution_count": null,
   "metadata": {},
   "outputs": [],
   "source": [
    "for index, row in a_cnv.iterrows():\n",
    "    ratio_df = ratio_dict[row[\"chrom\"]]\n",
    "    bc = row[\"barcode\"]\n",
    "    start_index = get_start_index(ratio_df, row[\"start\"])\n",
    "    end_index = get_end_index(ratio_df, row[\"end\"])\n",
    "    cell_ratio = ratio_df.loc[start_index:end_index].loc[:, bc]\n",
    "    cnv_df.at[index, \"N_window\"] = len(cell_ratio)\n",
    "    cnv_df.at[index, \"N_nonNA_window\"] = cell_ratio.notna().sum()"
   ]
  },
  {
   "cell_type": "code",
   "execution_count": null,
   "metadata": {},
   "outputs": [],
   "source": [
    "cnv_df[\"nonNA_frac\"] = cnv_df[\"N_nonNA_window\"]/cnv_df[\"N_window\"]"
   ]
  },
  {
   "cell_type": "code",
   "execution_count": null,
   "metadata": {},
   "outputs": [],
   "source": [
    "cnv_df[\"nonNA_frac\"].plot.hist(bins=100)"
   ]
  },
  {
   "cell_type": "code",
   "execution_count": null,
   "metadata": {},
   "outputs": [],
   "source": [
    "#select cutoff from the distribution, we used 0.25 for our data\n",
    "out_df = cnv_df.query(\"nonNA_frac >= 0.25\").copy()"
   ]
  },
  {
   "cell_type": "code",
   "execution_count": null,
   "metadata": {},
   "outputs": [],
   "source": [
    "out_cnv.to_csv(\"final_calls.csv\", index=False, sep=\"\\t\")"
   ]
  },
  {
   "cell_type": "code",
   "execution_count": null,
   "metadata": {},
   "outputs": [],
   "source": []
  }
 ],
 "metadata": {
  "kernelspec": {
   "display_name": "Python 3.7.3 64-bit ('base': conda)",
   "language": "python",
   "name": "python37364bitbaseconda3b314ad0223047b48fd7dc23e4a429ec"
  },
  "language_info": {
   "codemirror_mode": {
    "name": "ipython",
    "version": 3
   },
   "file_extension": ".py",
   "mimetype": "text/x-python",
   "name": "python",
   "nbconvert_exporter": "python",
   "pygments_lexer": "ipython3",
   "version": "3.7.3"
  }
 },
 "nbformat": 4,
 "nbformat_minor": 4
}
