{
 "cells": [
  {
   "cell_type": "code",
   "execution_count": null,
   "metadata": {},
   "outputs": [],
   "source": [
    "import pandas as pd\n",
    "from scipy.stats import norm\n",
    "import matplotlib.mlab as mlab\n",
    "import matplotlib.pyplot as plt\n",
    "from sklearn.mixture import GaussianMixture\n",
    "import os\n",
    "import numpy as np\n",
    "import seaborn as sns"
   ]
  },
  {
   "cell_type": "code",
   "execution_count": null,
   "metadata": {},
   "outputs": [],
   "source": [
    "# read the Ginkgo CNV calls with empirical p-value generated from the last step\n",
    "cnv_df = pd.read_pickle(\"STEP_7_out_CNV.pkl\")"
   ]
  },
  {
   "cell_type": "code",
   "execution_count": null,
   "metadata": {},
   "outputs": [],
   "source": [
    "true_cnv_df.head()"
   ]
  },
  {
   "cell_type": "code",
   "execution_count": null,
   "metadata": {},
   "outputs": [],
   "source": [
    "true_cnv_df.shape"
   ]
  },
  {
   "cell_type": "code",
   "execution_count": null,
   "metadata": {
    "scrolled": true
   },
   "outputs": [],
   "source": [
    "# select p-value < 0.05 as strong calls\n",
    "strong_cnv = cnv_df[cnv_df[\"pvalue\"]<0.05]\n",
    "strong_ratio_list = strong_cnv.median_log2.to_list()\n",
    "print(len(strong_ratio_list))"
   ]
  },
  {
   "cell_type": "code",
   "execution_count": null,
   "metadata": {},
   "outputs": [],
   "source": [
    "# read the permutated non-CNV calls with empirical p-value generated from the last step\n",
    "nonCNV_df = pd.read_pickle(\"STEP_7_out_nonCNV.pkl\"\")"
   ]
  },
  {
   "cell_type": "code",
   "execution_count": null,
   "metadata": {},
   "outputs": [],
   "source": [
    "# as the number of non-CNV is much larger than the CNV, we recommend use the first K non-CNVs to build the model\n",
    "# K is a little larger than the number of strong calls, like twice of that.\n",
    "# Users should define K here\n",
    "K = \n",
    "nonCNV_df = nonCNV_df.iloc[:K]"
   ]
  },
  {
   "cell_type": "code",
   "execution_count": null,
   "metadata": {},
   "outputs": [],
   "source": [
    "nonCNV_df.head()"
   ]
  },
  {
   "cell_type": "code",
   "execution_count": null,
   "metadata": {},
   "outputs": [],
   "source": [
    "nonCNV_ratio_list = nonCNV_df.median_log2.dropna().to_list()"
   ]
  },
  {
   "cell_type": "code",
   "execution_count": null,
   "metadata": {},
   "outputs": [],
   "source": [
    "(mu_cnv, sigma_cnv) = norm.fit(strong_ratio_list)\n",
    "(mu_non, sigma_non) = norm.fit(nonCNV_ratio_list)"
   ]
  },
  {
   "cell_type": "code",
   "execution_count": null,
   "metadata": {},
   "outputs": [],
   "source": [
    "print(mu_cnv, sigma_cnv)\n",
    "print(mu_non, sigma_non) "
   ]
  },
  {
   "cell_type": "code",
   "execution_count": null,
   "metadata": {},
   "outputs": [],
   "source": [
    "#new color scheme\n",
    "bins = np.linspace(0, 8, 80)\n",
    "\n",
    "n2, bin2, patches2 = plt.hist(nonCNV_ratio_list, bins, alpha=0.5, density=True, label='non-CNV permutations')\n",
    "n1, bin1, patches1 = plt.hist(strong_ratio_list, bins, alpha=0.5, density=True, label='strong CNVs (p-value<0.05)')\n",
    "\n",
    "plt.legend(loc='upper right')\n",
    "\n",
    "y1 = norm.pdf(bin1, mu_cnv, sigma_cnv)\n",
    "y2 = norm.pdf(bin2, mu_non, sigma_non)\n",
    "plt.plot(bin1, y1, '--')\n",
    "plt.plot(bin2, y2, '--')\n",
    "plt.xlabel(\"median log2 ratio\")\n",
    "plt.ylabel(\"density\")\n",
    "plt.show()"
   ]
  },
  {
   "cell_type": "code",
   "execution_count": null,
   "metadata": {},
   "outputs": [],
   "source": [
    "cnv_noNA = true_cnv_df[~true_cnv_df[\"median_log2\"].isna()].copy()"
   ]
  },
  {
   "cell_type": "code",
   "execution_count": null,
   "metadata": {},
   "outputs": [],
   "source": [
    "strong_arr = np.array(strong_ratio_list)\n",
    "non_arr = np.array(nonCNV_ratio_list)\n",
    "all_data = np.concatenate((strong_arr, non_arr), axis=0)\n",
    "all_data = all_data.reshape(-1, 1)"
   ]
  },
  {
   "cell_type": "code",
   "execution_count": null,
   "metadata": {},
   "outputs": [],
   "source": [
    "gmm = GaussianMixture(n_components=2, max_iter=1000, covariance_type='full').fit(all_data)"
   ]
  },
  {
   "cell_type": "code",
   "execution_count": null,
   "metadata": {},
   "outputs": [],
   "source": [
    "posterior = gmm.predict_proba(np.array(cnv_noNA.median_log2.to_list()).reshape(-1,1))"
   ]
  },
  {
   "cell_type": "code",
   "execution_count": null,
   "metadata": {},
   "outputs": [],
   "source": [
    "cnv_prob = [x[0] for x in posterior]"
   ]
  },
  {
   "cell_type": "code",
   "execution_count": null,
   "metadata": {},
   "outputs": [],
   "source": [
    "cnv_noNA[\"posterior_prob\"] = cnv_prob"
   ]
  },
  {
   "cell_type": "code",
   "execution_count": null,
   "metadata": {},
   "outputs": [],
   "source": [
    "cnv_noNA.posterior_prob.plot.hist(bins=100)\n",
    "plt.title(\"posterior probability distribution\")"
   ]
  },
  {
   "cell_type": "code",
   "execution_count": null,
   "metadata": {
    "scrolled": true
   },
   "outputs": [],
   "source": [
    "cnv_noNA[cnv_noNA[\"posterior_prob\"]> 0.6].shape"
   ]
  },
  {
   "cell_type": "code",
   "execution_count": null,
   "metadata": {},
   "outputs": [],
   "source": [
    "cnv_noNA[cnv_noNA[\"posterior_prob\"]> 0.99].shape"
   ]
  },
  {
   "cell_type": "code",
   "execution_count": null,
   "metadata": {},
   "outputs": [],
   "source": [
    "cnv_noNA.head()"
   ]
  },
  {
   "cell_type": "code",
   "execution_count": null,
   "metadata": {},
   "outputs": [],
   "source": [
    "out_cnv = pd.merge(true_cnv_df, cnv_noNA, how=\"inner\", on=[\"chrom\", \"start\", \"end\", \"bam\", \"copy_number\",\"barcode\",\"size\",\"median_log2\",\"pvalue\"])"
   ]
  },
  {
   "cell_type": "code",
   "execution_count": null,
   "metadata": {},
   "outputs": [],
   "source": [
    "out_cnv = out_cnv.query(\"posterior_prob > 0.99\").copy()"
   ]
  },
  {
   "cell_type": "code",
   "execution_count": null,
   "metadata": {},
   "outputs": [],
   "source": [
    "out_cnv.reset_index(drop=True, inplace=True)"
   ]
  },
  {
   "cell_type": "code",
   "execution_count": null,
   "metadata": {},
   "outputs": [],
   "source": [
    "out_cnv.to_pickle(\"STEP_8_out.pkl\")"
   ]
  },
  {
   "cell_type": "code",
   "execution_count": null,
   "metadata": {},
   "outputs": [],
   "source": []
  }
 ],
 "metadata": {
  "kernelspec": {
   "display_name": "Python 3.7.3 64-bit ('base': conda)",
   "language": "python",
   "name": "python37364bitbaseconda3b314ad0223047b48fd7dc23e4a429ec"
  },
  "language_info": {
   "codemirror_mode": {
    "name": "ipython",
    "version": 3
   },
   "file_extension": ".py",
   "mimetype": "text/x-python",
   "name": "python",
   "nbconvert_exporter": "python",
   "pygments_lexer": "ipython3",
   "version": "3.7.3"
  }
 },
 "nbformat": 4,
 "nbformat_minor": 2
}
